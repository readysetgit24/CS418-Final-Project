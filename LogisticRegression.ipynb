{
 "cells": [
  {
   "cell_type": "code",
   "execution_count": 1,
   "metadata": {},
   "outputs": [],
   "source": [
    "import pandas as pd\n",
    "import numpy as np\n",
    "import pickle\n",
    "\n",
    "import seaborn as sns\n",
    "from matplotlib import pyplot as plt\n",
    "import boto3\n",
    "\n",
    "from io import BytesIO, StringIO\n",
    "from time import perf_counter"
   ]
  },
  {
   "cell_type": "code",
   "execution_count": 35,
   "metadata": {},
   "outputs": [],
   "source": [
    "from sklearn.linear_model import LogisticRegression\n",
    "from sklearn.model_selection import train_test_split\n",
    "from sklearn.preprocessing import StandardScaler, LabelEncoder\n",
    "from sklearn.metrics import balanced_accuracy_score, f1_score, roc_auc_score, accuracy_score"
   ]
  },
  {
   "cell_type": "code",
   "execution_count": 3,
   "metadata": {},
   "outputs": [],
   "source": [
    "pd.set_option(\"display.max_rows\", 100, \"display.max_columns\", None)"
   ]
  },
  {
   "cell_type": "code",
   "execution_count": 4,
   "metadata": {},
   "outputs": [],
   "source": [
    "MY_BUCKET = 'sagemaker-studio-8x6b1t9vueh'\n",
    "file_name = 'df_processed2.pkl'\n",
    "\n",
    "s3 = boto3.resource('s3')\n",
    "preprocessed_df_ref = s3.Object(MY_BUCKET, file_name)"
   ]
  },
  {
   "cell_type": "code",
   "execution_count": null,
   "metadata": {},
   "outputs": [],
   "source": [
    "def fetch_and_process_df():\n",
    "    df = pickle.loads(preprocessed_df_ref.get()['Body'].read())\n",
    "    le = LabelEncoder()\n",
    "    val = le.fit_transform(df['Protocol'])\n",
    "    df['Protocol'] = le.fit_transform(df['Protocol']).astype('uint8')\n",
    "    # Converting Flags and Counts to uint8\n",
    "    \n",
    "    for col in df.columns:\n",
    "        dtype = str(df[col].dtypes)\n",
    "        if 'int32' in dtype:\n",
    "            df[col] = df[col].astype('uint8')\n",
    "    \n",
    "    # Convert to dummy variable.\n",
    "    df = pd.get_dummies(df, columns=['Protocol'])\n",
    "    \n",
    "    # Converting Label to Nominal Label class\n",
    "    y_label_encoder = LabelEncoder()\n",
    "    df['Label'] = y_label_encoder.fit_transform(df['Label']).astype('uint8')\n",
    "    \n",
    "    y = df['Label']\n",
    "    df.drop(columns=['Label'], inplace=True)\n",
    "    X = df\n",
    "    del df\n",
    "    \n",
    "    return X, y"
   ]
  },
  {
   "cell_type": "code",
   "execution_count": null,
   "metadata": {},
   "outputs": [],
   "source": [
    "X, y = fetch_and_process_df()"
   ]
  },
  {
   "cell_type": "code",
   "execution_count": 14,
   "metadata": {},
   "outputs": [],
   "source": [
    "random_state = 42\n",
    "AUTO = -1"
   ]
  },
  {
   "cell_type": "code",
   "execution_count": 15,
   "metadata": {},
   "outputs": [],
   "source": [
    "X_train, X_test, y_train, y_test = train_test_split(X, y, test_size=0.2, stratify=y, random_state=random_state)"
   ]
  },
  {
   "cell_type": "markdown",
   "metadata": {},
   "source": [
    "Apply Standard Scalar without changing dtypes."
   ]
  },
  {
   "cell_type": "code",
   "execution_count": null,
   "metadata": {},
   "outputs": [],
   "source": [
    "scalers = []\n",
    "for col in X_train.columns:\n",
    "    x = X_train[col]\n",
    "    if 'uint8' not in str(x.dtypes):\n",
    "        scaler = StandardScaler()\n",
    "        x = x.to_numpy()\n",
    "        x = scaler.fit_transform(x.reshape((-1, 1)))\n",
    "        X_train[col] = x.reshape((-1, ))\n",
    "        scalers.append(scaler)\n",
    "    else:\n",
    "        scalers.append(None)"
   ]
  },
  {
   "cell_type": "code",
   "execution_count": null,
   "metadata": {},
   "outputs": [],
   "source": [
    "for scaler, col in zip(scalers, X_test.columns):\n",
    "    if scaler is None:\n",
    "        continue\n",
    "    \n",
    "    x = X_test[col].to_numpy()\n",
    "    x = scaler.transform(x.reshape((-1, 1)))\n",
    "    X_test[col] = x.reshape((-1, ))\n"
   ]
  },
  {
   "cell_type": "markdown",
   "metadata": {},
   "source": [
    "One vs Rest. Weighted classes. Stochastic Average Gradient Solver. 1000 iterations."
   ]
  },
  {
   "cell_type": "code",
   "execution_count": 31,
   "metadata": {},
   "outputs": [],
   "source": [
    "clf = LogisticRegression(random_state=random_state, solver='sag', \n",
    "                         class_weight='balanced', max_iter=1000, \n",
    "                         multi_class='multinomial', n_jobs=AUTO)\n",
    "start_training_time = perf_counter()\n",
    "_ = clf.fit(X_train, y_train)\n",
    "end_training_time = perf_counter()"
   ]
  },
  {
   "cell_type": "code",
   "execution_count": 32,
   "metadata": {},
   "outputs": [
    {
     "name": "stdout",
     "output_type": "stream",
     "text": [
      "Time taken to fit the model 1429.3951300529998 seconds\n"
     ]
    }
   ],
   "source": [
    "print(f'Time taken to fit the model {end_training_time - start_training_time} seconds')"
   ]
  },
  {
   "cell_type": "code",
   "execution_count": 23,
   "metadata": {},
   "outputs": [],
   "source": [
    "y_pred = clf.predict(X_test)"
   ]
  },
  {
   "cell_type": "code",
   "execution_count": 25,
   "metadata": {},
   "outputs": [],
   "source": [
    "acc = balanced_accuracy_score(y_test, y_pred)"
   ]
  },
  {
   "cell_type": "code",
   "execution_count": 26,
   "metadata": {},
   "outputs": [
    {
     "data": {
      "text/plain": [
       "0.7133497325291106"
      ]
     },
     "execution_count": 26,
     "metadata": {},
     "output_type": "execute_result"
    }
   ],
   "source": [
    "acc"
   ]
  },
  {
   "cell_type": "code",
   "execution_count": 36,
   "metadata": {},
   "outputs": [
    {
     "data": {
      "text/plain": [
       "0.6730538442582553"
      ]
     },
     "execution_count": 36,
     "metadata": {},
     "output_type": "execute_result"
    }
   ],
   "source": [
    "acc_unbalanced = accuracy_score(y_test, y_pred)\n",
    "acc_unbalanced"
   ]
  },
  {
   "cell_type": "code",
   "execution_count": 42,
   "metadata": {},
   "outputs": [
    {
     "data": {
      "text/plain": [
       "0.5428696572663683"
      ]
     },
     "execution_count": 42,
     "metadata": {},
     "output_type": "execute_result"
    }
   ],
   "source": [
    "unbalanaced_f1 = f1_score(y_test, y_pred, average='macro')\n",
    "unbalanaced_f1"
   ]
  },
  {
   "cell_type": "code",
   "execution_count": 43,
   "metadata": {},
   "outputs": [
    {
     "data": {
      "text/plain": [
       "0.7498501772890271"
      ]
     },
     "execution_count": 43,
     "metadata": {},
     "output_type": "execute_result"
    }
   ],
   "source": [
    "weighted_f1 = f1_score(y_test, y_pred, average='weighted')\n",
    "weighted_f1"
   ]
  },
  {
   "cell_type": "code",
   "execution_count": null,
   "metadata": {},
   "outputs": [],
   "source": [
    "roc = roc_auc_score(y_test, y_pred, average='weighted', multi_class='ovo')\n",
    "roc"
   ]
  },
  {
   "cell_type": "code",
   "execution_count": 34,
   "metadata": {},
   "outputs": [],
   "source": [
    "y_pred_1 = clf.predict(X_test)"
   ]
  },
  {
   "cell_type": "code",
   "execution_count": 38,
   "metadata": {},
   "outputs": [
    {
     "data": {
      "text/plain": [
       "0.7103108954788677"
      ]
     },
     "execution_count": 38,
     "metadata": {},
     "output_type": "execute_result"
    }
   ],
   "source": [
    "acc_1 = balanced_accuracy_score(y_test, y_pred_1)\n",
    "acc_1"
   ]
  },
  {
   "cell_type": "code",
   "execution_count": 41,
   "metadata": {},
   "outputs": [
    {
     "data": {
      "text/plain": [
       "0.2967259117792016"
      ]
     },
     "execution_count": 41,
     "metadata": {},
     "output_type": "execute_result"
    }
   ],
   "source": [
    "acc_unbalanced_1 = accuracy_score(y_test, y_pred_1)\n",
    "acc_unbalanced_1"
   ]
  },
  {
   "cell_type": "code",
   "execution_count": 44,
   "metadata": {},
   "outputs": [
    {
     "data": {
      "text/plain": [
       "0.3390841185922816"
      ]
     },
     "execution_count": 44,
     "metadata": {},
     "output_type": "execute_result"
    }
   ],
   "source": [
    "weighted_f1_1 = f1_score(y_test, y_pred_1, average='weighted')\n",
    "weighted_f1_1"
   ]
  },
  {
   "cell_type": "code",
   "execution_count": 45,
   "metadata": {},
   "outputs": [
    {
     "data": {
      "text/plain": [
       "0.39015495496356506"
      ]
     },
     "execution_count": 45,
     "metadata": {},
     "output_type": "execute_result"
    }
   ],
   "source": [
    "unbalanced_f1_1 = f1_score(y_test, y_pred_1, average='macro')\n",
    "unbalanced_f1_1"
   ]
  },
  {
   "cell_type": "code",
   "execution_count": null,
   "metadata": {},
   "outputs": [],
   "source": []
  }
 ],
 "metadata": {
  "kernelspec": {
   "display_name": "Python 3 (Data Science)",
   "language": "python",
   "name": "python3__SAGEMAKER_INTERNAL__arn:aws:sagemaker:ca-central-1:310906938811:image/datascience-1.0"
  },
  "language_info": {
   "codemirror_mode": {
    "name": "ipython",
    "version": 3
   },
   "file_extension": ".py",
   "mimetype": "text/x-python",
   "name": "python",
   "nbconvert_exporter": "python",
   "pygments_lexer": "ipython3",
   "version": "3.7.10"
  }
 },
 "nbformat": 4,
 "nbformat_minor": 4
}
